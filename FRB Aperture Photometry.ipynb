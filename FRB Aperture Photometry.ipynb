{
 "cells": [
  {
   "cell_type": "markdown",
   "metadata": {},
   "source": [
    "Let's start with imports:"
   ]
  },
  {
   "cell_type": "code",
   "execution_count": null,
   "metadata": {},
   "outputs": [],
   "source": [
    "from __future__ import print_function\n",
    "import numpy as np\n",
    "import pandas as pd\n",
    "from astropy.table import Table\n",
    "from astropy.io import fits\n",
    "from astropy.utils.data import download_file\n",
    "from astropy.visualization import PercentileInterval, AsinhStretch\n",
    "from photutils.aperture import aperture_photometry, CircularAperture, CircularAnnulus, ApertureStats\n",
    "import matplotlib\n",
    "matplotlib.use('TkAgg')\n",
    "from numpy import *\n",
    "from pylab import *"
   ]
  },
  {
   "cell_type": "markdown",
   "metadata": {},
   "source": [
    "Now we'll define some universal constants, to be changed as seen fit:"
   ]
  },
  {
   "cell_type": "code",
   "execution_count": null,
   "metadata": {},
   "outputs": [],
   "source": [
    "sizestring = '240'\n",
    "size = 240\n",
    "radius = 15\n",
    "cone = 300/3600 #in degrees\n",
    "format = 'fits'\n",
    "position = [size/2, size/2]"
   ]
  },
  {
   "cell_type": "markdown",
   "metadata": {},
   "source": [
    "Here are some pared-down functions from the PanStarrs tutorial code to create a url and download an image:"
   ]
  },
  {
   "cell_type": "code",
   "execution_count": null,
   "metadata": {},
   "outputs": [],
   "source": [
    "def geturl(ra, dec, size, filter):\n",
    "\n",
    "      '''\n",
    "      Function that creates a PanStarrs FITS url to download.\n",
    "\n",
    "      Parameters:\n",
    "      -----------\n",
    "      ra  : float\n",
    "            J2000 RA of center of image in degrees\n",
    "\n",
    "      dec : float\n",
    "            J2000 Dec of center of image in degrees\n",
    "\n",
    "      size : integer\n",
    "            image size in pixels where 240 pixels is 60 arcsec\n",
    "\n",
    "      filter : string\n",
    "            desired filter for the image (g, r, i, z, or y)\n",
    "\n",
    "      Returns:\n",
    "      --------\n",
    "      url : string\n",
    "            desired url to unpack for a FITS file\n",
    "      '''\n",
    "\n",
    "      format, output_size, color = \"fits\", None, False\n",
    "\n",
    "\n",
    "      service = \"https://ps1images.stsci.edu/cgi-bin/ps1filenames.py\"\n",
    "\n",
    "      url = (\"{service}?ra={ra}&dec={dec}&size={size}&format=fits\"\n",
    "      \"&filters={filter}\").format(**locals())\n",
    "\n",
    "      table = Table.read(url, format='ascii')\n",
    "\n",
    "      url = (\"https://ps1images.stsci.edu/cgi-bin/fitscut.cgi?\"\n",
    "      \"ra={ra}&dec={dec}&size={size}&format={format}\").format(**locals())\n",
    "\n",
    "      urlbase = url + \"&red=\"\n",
    "      url = []\n",
    "      for filename in table['filename']:\n",
    "            url.append(urlbase+filename)\n",
    "\n",
    "      return url"
   ]
  },
  {
   "cell_type": "markdown",
   "metadata": {},
   "source": [
    "This function runs the get_url() function and downloads the data."
   ]
  },
  {
   "cell_type": "code",
   "execution_count": null,
   "metadata": {},
   "outputs": [],
   "source": [
    "def readfile(ra, dec, size, filter):\n",
    "      '''\n",
    "      This function runs the get_url() function, creates a path, and downloads the FITS file data and header. \n",
    "\n",
    "      Parameters:\n",
    "      -----------\n",
    "      ra  : float\n",
    "            J2000 RA of center of image in degrees\n",
    "\n",
    "      dec : float\n",
    "            J2000 Dec of center of image in degrees\n",
    "\n",
    "            size : integer\n",
    "            image size in pixels where 240 pixels is 60 arcsec\n",
    "\n",
    "      filter : string\n",
    "                  desired filter for the image (g, r, i, z, or y)\n",
    "\n",
    "      Returns:\n",
    "      -------\n",
    "      data : numpy.ndarray\n",
    "            data describing the FITS file\n",
    "\n",
    "      header: astropy.io.fits.header.Header\n",
    "              header for the FITS file containing information about the collection processes and image reduction\n",
    "      '''\n",
    "      \n",
    "      url=geturl(ra, dec, size, filter)[0]\n",
    "      path = download_file(url)\n",
    "      hdu = fits.open(path)\n",
    "      data = hdu[0].data\n",
    "      header = hdu[0].header\n",
    "      hdu.close()\n",
    "\n",
    "      return [data, header]"
   ]
  },
  {
   "cell_type": "markdown",
   "metadata": {},
   "source": [
    "This function runs the aperture photometry functions from photutils and calculates the error. \n",
    "\n",
    "The magnitude is found by the following equation:\n",
    "$$\n",
    "M = M_{ZPT} - 2.5\\log_{10}{\\frac{c \\cdot g}{t_{exp}}} \n",
    "$$\n",
    "...where $M_{ZPT}$ is the zero-point magnitude (25 for PanStarrs FITS files), $t_{exp}$ is the exposure time in seconds, $c$ is the counts per pixel, and $g$ is the photon-electron gain.\n",
    "\n",
    "The error in this magnitude can be approximated by:\n",
    "$$\n",
    "\\sigma_{M} \\approx \\frac{-2.5}{\\ln{10} \\cdot c} \\sqrt{\\left(A_{aperture} + \\frac{A_{aperture}^2}{A_{BG}}\\right)\\sigma_{BG}^2}\n",
    "$$\n",
    "\n",
    "And the 3-sigma upper limit on non-detections is then found with:\n",
    "\n",
    "$$\n",
    "M_{3\\sigma} = M_{ZPT} - 2.5\\log{\\left[\\mu_{BG}+3\\sigma_{BG}*\\frac{g}{t_{exp}}\\right]}\\pm{\\left|\\frac{2.5}{\\ln{10} \\cdot c}\\right|\\sqrt{\\sigma_{BG}^2\\left(A_{aperture}+\\frac{A_{aperture}^2}{A_{BG}}\\right)}}\n",
    "$$"
   ]
  },
  {
   "cell_type": "code",
   "execution_count": null,
   "metadata": {},
   "outputs": [],
   "source": [
    "def getmagnitude(data, header, radius, position):\n",
    "\n",
    "    '''\n",
    "    Function that handles the aperture photometry and calculates associated error. \n",
    "\n",
    "    Parameters:\n",
    "    ----------\n",
    "    data : numpy.ndarray\n",
    "           data describing the FITS file\n",
    "\n",
    "    header : astropy.io.fits.header.Header\n",
    "             header for the FITS file containing information about the collection processes and image reduction\n",
    "\n",
    "    radius : integer\n",
    "             radius of aperture in pixels\n",
    "\n",
    "    position : list \n",
    "               contains x and y coordinates (in pixels) of the center of the aperture\n",
    "\n",
    "    Returns:\n",
    "    --------\n",
    "    mag_and_error : list\n",
    "                    contains either the magnitude and error or the 3-sigma upper limit and the error\n",
    "                    if there is no detection, the error will be negative\n",
    "    \n",
    "    '''\n",
    "\n",
    "    Texp = header['EXPTIME']\n",
    "    ZPTmag = header['HIERARCH FPA.ZP']\n",
    "    gain = header['HIERARCH CELL.GAIN']\n",
    "\n",
    "    aperture = CircularAperture(position, radius)\n",
    "    annulus = CircularAnnulus(position, radius+2, np.sqrt(2*(radius**2+2*radius+2))) \n",
    "\n",
    "    phot_table = aperture_photometry(data, aperture)\n",
    "    ann_table = aperture_photometry(data, annulus)\n",
    "\n",
    "    counts = phot_table['aperture_sum'] - (ann_table['aperture_sum'])*(aperture.area/annulus.area)\n",
    "    \n",
    "    annstats  = ApertureStats(data, annulus)\n",
    "    annvar = (annstats.std)**2\n",
    "\n",
    "    count_error = np.sqrt(annvar*(aperture.area+(aperture.area**2)/annulus.area))\n",
    "    error = (2.5/(np.log(10)*counts))*count_error\n",
    "    upperlimcounts = annstats.mean+3*annstats.std\n",
    "    Ne = counts*gain\n",
    "    \n",
    "    if Ne/Texp > 0:\n",
    "        magnitude = ZPTmag - 2.5*np.log10(Ne/Texp)\n",
    "        mag_and_error = [magnitude[0], error[0]] \n",
    "    else:\n",
    "        Ne = ann_table['aperture_sum']*gain\n",
    "        magnitude = ('3σ: '+str(ZPTmag - 2.5*np.log10(upperlimcounts*gain/Texp)))\n",
    "        mag_and_error = [magnitude, str(\"{:.4f}\".format(error[0]))]\n",
    "\n",
    "    return mag_and_error"
   ]
  },
  {
   "cell_type": "markdown",
   "metadata": {},
   "source": [
    "Here we'll define a function to plot the aperture and the annulus:"
   ]
  },
  {
   "cell_type": "code",
   "execution_count": null,
   "metadata": {},
   "outputs": [],
   "source": [
    "def print_image(data):\n",
    "\n",
    "    '''\n",
    "    This function plots your aperture so you can see what is getting included. \n",
    "\n",
    "    Parameters:\n",
    "    -----------\n",
    "    data : numpy.ndarray\n",
    "           data describing the FITS file\n",
    "\n",
    "    Returns: a plot graphing the aperture and the annulus.\n",
    "    '''\n",
    "\n",
    "    data[np.isnan(data)] = 0.0\n",
    "    # set contrast to something reasonable\n",
    "    transform = AsinhStretch() + PercentileInterval(99.5)\n",
    "    bfim = transform(data)\n",
    "\n",
    "    theta = np.linspace( 0 , 2 * np.pi , 150 )\n",
    "    a = np.cos( theta )\n",
    "    b = np.sin( theta )\n",
    "\n",
    "    figure, axes = plt.subplots( 1 )\n",
    "    axes.plot(radius*a + size/2, radius*b + size/2)\n",
    "    axes.plot((radius+2)*a + size/2, (radius+2)*b + size/2)\n",
    "    axes.plot((np.sqrt(2*(radius**2+2*radius+2))*a) + size/2, (np.sqrt(2*(radius**2+2*radius+2))*b + size/2))\n",
    "    axes.imshow(bfim,cmap=\"gray\",origin=\"lower\")\n",
    "    axes.set_aspect( 1 )\n",
    "    axes.set_title('PS1 i (fits)'+'inner radius = '+str(radius))\n",
    "    axes.imshow(bfim,cmap=\"gray\",origin=\"lower\")\n",
    "    axes.set_xlabel('RA (Deg)')\n",
    "    axes.set_ylabel('Dec (Deg)')\n",
    "    plt.show()"
   ]
  },
  {
   "cell_type": "markdown",
   "metadata": {},
   "source": [
    "Put the FRBs you want to analyse here:"
   ]
  },
  {
   "cell_type": "code",
   "execution_count": null,
   "metadata": {},
   "outputs": [],
   "source": [
    "'''\n",
    "This should be a dictionary called FRBinfo with the entry format 'Name' : [RA, Dec]. For example:\n",
    "FRBinfo = {\n",
    "        'Arthur' : [274.334, 76.333],\n",
    "        'Ford' : [221.333, 67.373],\n",
    "        'Trillian' : [38.387, 54. 283],\n",
    "        'Zaphod' : [353.373, 86.998]\n",
    "}\n",
    "'''\n",
    "\n",
    "FRBinfo = {\n",
    "        'Jessie': [286.575685, 8.8247238],\n",
    "}"
   ]
  },
  {
   "cell_type": "markdown",
   "metadata": {},
   "source": [
    "Now we'll run all of the above functions. This part will take about 15 seconds per FRB localization."
   ]
  },
  {
   "cell_type": "code",
   "execution_count": null,
   "metadata": {},
   "outputs": [],
   "source": [
    "idlist = ['RA', 'Dec', 'g', 'err_g', 'r', 'err_r', 'i', 'err_i', 'z', 'err_z', 'y', 'err_y']\n",
    "df = pd.DataFrame(columns = idlist)\n",
    "for name in FRBinfo:\n",
    "    mag_list = []\n",
    "    for filter in ['g', 'r', 'i', 'z', 'y']:\n",
    "        file = readfile(FRBinfo[name][0], FRBinfo[name][1], size, filter)\n",
    "        data = file[0]\n",
    "        header = file[1]\n",
    "\n",
    "        #let's plot the aperture in i-band, because i is a nice band.\n",
    "        if filter == 'i':\n",
    "            print_image(data)\n",
    "        \n",
    "        mag_and_error = getmagnitude(data, header, radius, position)\n",
    "        mag_list.append(mag_and_error[0])\n",
    "        mag_list.append(mag_and_error[1])\n",
    "\n",
    "    line = [FRBinfo[name][0], FRBinfo[name][1]]\n",
    "    line.extend(mag_list)\n",
    "    line = pd.DataFrame([line], columns = idlist)\n",
    "    df = pd.concat([df, line])\n",
    "\n",
    "df = df.set_index(pd.Index(list(FRBinfo.keys())))\n",
    "print(df)"
   ]
  },
  {
   "cell_type": "markdown",
   "metadata": {},
   "source": [
    "Optionally, you can print this as a csv:"
   ]
  },
  {
   "cell_type": "code",
   "execution_count": null,
   "metadata": {},
   "outputs": [],
   "source": [
    "file = open('Host Galaxies.csv', 'w')\n",
    "file.write(df.to_csv())\n",
    "file.close()"
   ]
  }
 ],
 "metadata": {
  "kernelspec": {
   "display_name": "Python 3.8.10 64-bit",
   "language": "python",
   "name": "python3"
  },
  "language_info": {
   "codemirror_mode": {
    "name": "ipython",
    "version": 3
   },
   "file_extension": ".py",
   "mimetype": "text/x-python",
   "name": "python",
   "nbconvert_exporter": "python",
   "pygments_lexer": "ipython3",
   "version": "3.8.10"
  },
  "orig_nbformat": 4,
  "vscode": {
   "interpreter": {
    "hash": "31f2aee4e71d21fbe5cf8b01ff0e069b9275f58929596ceb00d14d90e3e16cd6"
   }
  }
 },
 "nbformat": 4,
 "nbformat_minor": 2
}
